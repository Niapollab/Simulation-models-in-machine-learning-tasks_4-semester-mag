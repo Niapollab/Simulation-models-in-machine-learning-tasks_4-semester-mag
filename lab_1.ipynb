{
 "cells": [
  {
   "cell_type": "markdown",
   "id": "43a6c4ee",
   "metadata": {},
   "source": [
    "# Лабораторная работа №1"
   ]
  },
  {
   "cell_type": "markdown",
   "id": "c549641a",
   "metadata": {},
   "source": [
    "## Определение входных параметров"
   ]
  },
  {
   "cell_type": "code",
   "execution_count": null,
   "id": "1b21a1ba",
   "metadata": {},
   "outputs": [],
   "source": [
    "import statistics as s\n",
    "from collections.abc import Callable\n",
    "from math import pi\n",
    "from random import uniform\n",
    "from typing import Iterable, Tuple\n",
    "\n",
    "DIM = 3\n",
    "R1 = 1\n",
    "R2 = 2\n",
    "VOLUME_CUBE_R2_BASED = (2 * R2)**3\n",
    "\n",
    "\n",
    "def sphere_volume(r: float) -> float:\n",
    "    return 4 / 3 * pi * r**3\n",
    "\n",
    "\n",
    "def in_figure(x: float, y: float, z: float) -> bool:\n",
    "    r = x * x + y * y + z * z\n",
    "    return R1 * R1 <= r <= R2 * R2\n",
    "\n",
    "\n",
    "def enumerate_random_dots(count: int) -> Iterable[Tuple[float, ...]]:\n",
    "    for _ in range(count):\n",
    "        yield tuple(uniform(-R2, R2) for _ in range(DIM))\n",
    "\n",
    "\n",
    "def calculate_monte_carlo_volume(\n",
    "    dots_provider: Callable[[int], Iterable[Tuple[float, ...]]],\n",
    "    precision: int,\n",
    ") -> float:\n",
    "    return (\n",
    "        sum(in_figure(x, y, z) for x, y, z in dots_provider(precision)) / precision\n",
    "    ) * VOLUME_CUBE_R2_BASED"
   ]
  },
  {
   "cell_type": "markdown",
   "id": "f2502496",
   "metadata": {},
   "source": [
    "## Эксперимент"
   ]
  },
  {
   "cell_type": "code",
   "execution_count": null,
   "id": "a0062df9",
   "metadata": {},
   "outputs": [],
   "source": [
    "PRECISION = 250_000\n",
    "EXPERIMENTS_COUNT = 100\n",
    "\n",
    "experiments = []\n",
    "for number in range(1, EXPERIMENTS_COUNT + 1):\n",
    "    experiment = calculate_monte_carlo_volume(enumerate_random_dots, PRECISION)\n",
    "    print(f\"Experiment №{number}: {experiment:.4f}\")\n",
    "\n",
    "    experiments.append(experiment)\n",
    "\n",
    "target_value = sphere_volume(R2) - sphere_volume(R1)\n",
    "print(f\"Target value: {target_value:.4f}\")\n",
    "\n",
    "mean_value = s.mean(experiments)\n",
    "print(f\"Mean: {s.mean(experiments):.4f}\")\n",
    "print(f\"Standard deviation: {s.stdev(experiments):.4f}\")\n",
    "\n",
    "abs_err = abs(target_value - mean_value)\n",
    "print(f\"Absolute error: {abs_err:.4f}\")\n",
    "\n",
    "rel_err = abs_err / target_value * 100\n",
    "print(f\"Relative error: {rel_err:.4f}%\")"
   ]
  }
 ],
 "metadata": {
  "kernelspec": {
   "display_name": ".venv",
   "language": "python",
   "name": "python3"
  },
  "language_info": {
   "codemirror_mode": {
    "name": "ipython",
    "version": 3
   },
   "file_extension": ".py",
   "mimetype": "text/x-python",
   "name": "python",
   "nbconvert_exporter": "python",
   "pygments_lexer": "ipython3",
   "version": "3.12.7"
  }
 },
 "nbformat": 4,
 "nbformat_minor": 5
}
