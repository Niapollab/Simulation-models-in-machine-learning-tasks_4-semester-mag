{
 "cells": [
  {
   "cell_type": "code",
   "execution_count": null,
   "metadata": {},
   "outputs": [],
   "source": [
    "from sklearn.linear_model import LinearRegression\n",
    "from sklearn.metrics import r2_score\n",
    "from sklearn.model_selection import train_test_split\n",
    "from typing import Any\n",
    "import matplotlib.pyplot as plt\n",
    "import pandas as pd\n",
    "import re\n",
    "import seaborn as sns\n",
    "\n",
    "\n",
    "def show_plt(data: Any, title: str, xlabel: str) -> None:\n",
    "    sns.histplot(data, kde=True)\n",
    "    plt.title(title)\n",
    "    plt.xlabel(xlabel)\n",
    "    plt.grid(True)\n",
    "    plt.show()\n",
    "\n",
    "\n",
    "def show_result_plt(y_test: Any, y_pred: Any, r2: Any) -> None:\n",
    "    plt.figure(figsize=(10, 8))\n",
    "    sns.set_style(\"whitegrid\")\n",
    "    plt.scatter(y_test, y_pred, alpha=0.6, color='blue', label='Предсказания')\n",
    "    max_val = max(max(y_test), max(y_pred)) + 2\n",
    "    min_val = min(min(y_test), min(y_pred)) - 2\n",
    "    plt.plot([min_val, max_val], [min_val, max_val],\n",
    "            '--', color='red', linewidth=2, label='Идеальное соответствие')\n",
    "\n",
    "    plt.xlabel('Фактические значения Y1', fontsize=12)\n",
    "    plt.ylabel('Предсказанные значения Y1', fontsize=12)\n",
    "    plt.title('Сравнение фактических и предсказанных значений Y1', fontsize=14)\n",
    "    plt.legend(fontsize=12)\n",
    "    plt.grid(True, alpha=0.3)\n",
    "\n",
    "    plt.text(0.05, 0.95, f'R2 = {r2:.3f}', transform=plt.gca().transAxes,\n",
    "            fontsize=12, verticalalignment='top', bbox=dict(boxstyle='round', facecolor='white', alpha=0.8))\n",
    "\n",
    "    plt.tight_layout()\n",
    "    plt.show()"
   ]
  },
  {
   "cell_type": "code",
   "execution_count": null,
   "metadata": {},
   "outputs": [],
   "source": [
    "df = pd.read_csv('out.csv')\n",
    "df.info()"
   ]
  },
  {
   "cell_type": "code",
   "execution_count": null,
   "metadata": {},
   "outputs": [],
   "source": [
    "df['beforeWeighing'] = df['weighingStartTime'] - df['startTime']\n",
    "df['weighingTime'] = df['weighingEndTime'] - df['weighingStartTime']\n",
    "df['beforeCheckout'] = df['checkoutStartTime'] - df['weighingEndTime']\n",
    "df['checkoutTime'] = df['checkoutEndTime'] - df['checkoutStartTime']\n",
    "\n",
    "df.drop(['startTime', 'weighingStartTime', 'weighingEndTime', 'checkoutStartTime', 'checkoutEndTime'], axis=1, inplace=True)\n",
    "df.info()"
   ]
  },
  {
   "cell_type": "code",
   "execution_count": null,
   "metadata": {},
   "outputs": [],
   "source": [
    "plt_names = [re.sub('[A-Z]', lambda m: f' {m[0].lower()}', column).capitalize() for column in df.columns]\n",
    "\n",
    "for plt_name, column_name in zip(plt_names, df.columns):\n",
    "    show_plt(df[column_name], plt_name, 'Seconds')"
   ]
  },
  {
   "cell_type": "code",
   "execution_count": null,
   "metadata": {},
   "outputs": [],
   "source": [
    "df_x = df.drop(['totalTime'], axis=1)\n",
    "df_y = df['totalTime']\n",
    "\n",
    "x_train, x_test, y_train, y_test = train_test_split(df_x, df_y, test_size=0.30, random_state=42)"
   ]
  },
  {
   "cell_type": "code",
   "execution_count": null,
   "metadata": {},
   "outputs": [],
   "source": [
    "model = LinearRegression()\n",
    "model.fit(x_train, y_train)\n",
    "\n",
    "y_pred = model.predict(x_test)\n",
    "r2 = r2_score(y_test, y_pred)"
   ]
  },
  {
   "cell_type": "code",
   "execution_count": null,
   "metadata": {},
   "outputs": [],
   "source": [
    "show_result_plt(y_test, y_pred, r2)"
   ]
  }
 ],
 "metadata": {
  "kernelspec": {
   "display_name": "Python 3",
   "language": "python",
   "name": "python3"
  },
  "language_info": {
   "codemirror_mode": {
    "name": "ipython",
    "version": 3
   },
   "file_extension": ".py",
   "mimetype": "text/x-python",
   "name": "python",
   "nbconvert_exporter": "python",
   "pygments_lexer": "ipython3",
   "version": "3.13.2"
  }
 },
 "nbformat": 4,
 "nbformat_minor": 2
}
